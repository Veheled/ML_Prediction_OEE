{
  "cells": [
    {
      "cell_type": "markdown",
      "metadata": {
        "nteract": {
          "transient": {
            "deleting": false
          }
        }
      },
      "source": [
        "#### Mount correct folder"
      ]
    },
    {
      "cell_type": "code",
      "execution_count": null,
      "metadata": {},
      "outputs": [],
      "source": [
        "%cd #INSERT FOLDER PATH"
      ]
    },
    {
      "cell_type": "markdown",
      "metadata": {
        "nteract": {
          "transient": {
            "deleting": false
          }
        }
      },
      "source": [
        "#### Import Modules"
      ]
    },
    {
      "cell_type": "code",
      "execution_count": null,
      "metadata": {
        "gather": {
          "logged": 1724510634375
        },
        "jupyter": {
          "outputs_hidden": false,
          "source_hidden": false
        },
        "nteract": {
          "transient": {
            "deleting": false
          }
        }
      },
      "outputs": [],
      "source": [
        "from modules.fastec_data_integration import FastecDataIntegrator\n",
        "from modules.formate_data_integration import FormateDataIntegrator\n",
        "from modules.rüstmatrix_data_integrator import RüstmatrixDataIntegrator"
      ]
    },
    {
      "cell_type": "markdown",
      "metadata": {
        "nteract": {
          "transient": {
            "deleting": false
          }
        }
      },
      "source": [
        "#### Execute Fastec Feature Integration"
      ]
    },
    {
      "cell_type": "code",
      "execution_count": null,
      "metadata": {
        "gather": {
          "logged": 1724510851166
        },
        "jupyter": {
          "outputs_hidden": false,
          "source_hidden": false
        },
        "nteract": {
          "transient": {
            "deleting": false
          }
        }
      },
      "outputs": [],
      "source": [
        "fastec_data_integrator = FastecDataIntegrator(\n",
        "    raw_data_folder = '00_RawData/',\n",
        "    raw_data_file_list = [\n",
        "        'FactMdaState',\n",
        "        'FactMdaCounter',\n",
        "        'FactMdaMes',\n",
        "        'DimWorkcenter',\n",
        "        'DimShiftEvent',\n",
        "        'DimMdaOperation',\n",
        "        'DimMdaCounter',\n",
        "        'DimMdaState'\n",
        "    ]\n",
        ")\n",
        "\n",
        "fastec_feature_set = fastec_data_integrator.run()"
      ]
    },
    {
      "cell_type": "code",
      "execution_count": null,
      "metadata": {
        "gather": {
          "logged": 1724510851351
        },
        "jupyter": {
          "outputs_hidden": true,
          "source_hidden": false
        },
        "nteract": {
          "transient": {
            "deleting": false
          }
        }
      },
      "outputs": [],
      "source": [
        "display(fastec_feature_set)"
      ]
    },
    {
      "cell_type": "markdown",
      "metadata": {
        "nteract": {
          "transient": {
            "deleting": false
          }
        }
      },
      "source": [
        "### External Data Import"
      ]
    },
    {
      "cell_type": "markdown",
      "metadata": {},
      "source": [
        "##### Formate"
      ]
    },
    {
      "cell_type": "code",
      "execution_count": null,
      "metadata": {
        "gather": {
          "logged": 1724510852266
        },
        "jupyter": {
          "outputs_hidden": false,
          "source_hidden": false
        },
        "nteract": {
          "transient": {
            "deleting": false
          }
        }
      },
      "outputs": [],
      "source": [
        "formate_data_integrator = FormateDataIntegrator(\n",
        "    formate_file_path = '00_ExternalData/Formate mit Produktnummern.xlsx',\n",
        "    sheet_names = ['FS','PBL','Tuben'],\n",
        "    fastec_feature_set = fastec_feature_set\n",
        ")\n",
        "\n",
        "fastec_formate_dataset = formate_data_integrator.run()"
      ]
    },
    {
      "cell_type": "code",
      "execution_count": null,
      "metadata": {
        "gather": {
          "logged": 1724510852407
        },
        "jupyter": {
          "outputs_hidden": true,
          "source_hidden": false
        },
        "nteract": {
          "transient": {
            "deleting": false
          }
        }
      },
      "outputs": [],
      "source": [
        "display(fastec_formate_dataset)"
      ]
    },
    {
      "cell_type": "markdown",
      "metadata": {},
      "source": [
        "##### Rüstmatrix"
      ]
    },
    {
      "cell_type": "code",
      "execution_count": null,
      "metadata": {
        "gather": {
          "logged": 1724510853781
        }
      },
      "outputs": [],
      "source": [
        "rm_data_integrator = RüstmatrixDataIntegrator(\n",
        "    formate_file_path = '00_ExternalData/Formate mit Produktnummern.xlsx',\n",
        "    rüstmatrix_file_path = '00_ExternalData/Rüstmatrixinformationen.xlsx',\n",
        "    join_feature_set=fastec_formate_dataset\n",
        ")\n",
        "\n",
        "final_dataset = rm_data_integrator.run()"
      ]
    },
    {
      "cell_type": "markdown",
      "metadata": {
        "nteract": {
          "transient": {
            "deleting": false
          }
        }
      },
      "source": [
        "#### Filter Dataset for useful orders"
      ]
    },
    {
      "cell_type": "code",
      "execution_count": null,
      "metadata": {
        "gather": {
          "logged": 1724510853885
        },
        "jupyter": {
          "outputs_hidden": false,
          "source_hidden": false
        },
        "nteract": {
          "transient": {
            "deleting": false
          }
        }
      },
      "outputs": [],
      "source": [
        "## Remove orders containing \"test\"\n",
        "print(f'Dataset Size pre filtering: {len(final_dataset)}')\n",
        "filtered_final_dataset = final_dataset[~final_dataset['OrderCode'].str.contains('test', case=False, na=False)]\n",
        "print(f'Dataset Size after removing test orders: {len(filtered_final_dataset)}')\n",
        "filtered_final_dataset = filtered_final_dataset[\n",
        "                                        filtered_final_dataset['IsMaintenanceOrder'] == 0\n",
        "                                    ]\n",
        "print(f'Dataset Size after removing maintenance orders: {len(filtered_final_dataset)}')\n",
        "filtered_final_dataset = filtered_final_dataset.query('OEE > 0.01 & OEE <= 1.25')\n",
        "print(f'Dataset Size after removing invalid OEE orders: {len(filtered_final_dataset)}')\n"
      ]
    },
    {
      "cell_type": "code",
      "execution_count": null,
      "metadata": {
        "gather": {
          "logged": 1724510854013
        },
        "jupyter": {
          "outputs_hidden": false,
          "source_hidden": false
        },
        "nteract": {
          "transient": {
            "deleting": false
          }
        }
      },
      "outputs": [],
      "source": [
        "display(filtered_final_dataset)"
      ]
    },
    {
      "cell_type": "code",
      "execution_count": null,
      "metadata": {},
      "outputs": [],
      "source": [
        "filtered_final_dataset['ProductCode'].sort_values()"
      ]
    },
    {
      "cell_type": "markdown",
      "metadata": {},
      "source": [
        "#### "
      ]
    },
    {
      "cell_type": "markdown",
      "metadata": {
        "nteract": {
          "transient": {
            "deleting": false
          }
        }
      },
      "source": [
        "#### Save Integrated and Filtered Dataset"
      ]
    },
    {
      "cell_type": "code",
      "execution_count": null,
      "metadata": {
        "gather": {
          "logged": 1724510854122
        },
        "jupyter": {
          "outputs_hidden": false,
          "source_hidden": false
        },
        "nteract": {
          "transient": {
            "deleting": false
          }
        }
      },
      "outputs": [],
      "source": [
        "from datetime import datetime\n",
        "timestamp = datetime.now().strftime(\"%Y-%m-%d_%H_%M_%S\")\n",
        "filtered_final_dataset.to_parquet(f'01_IntegratedData/{timestamp}_Fastec_Formate_Dataset.parquet')\n",
        "print(f'Saved Dataset to \"01_IntegratedData/{timestamp}_Fastec_Formate_Dataset.parquet\"')"
      ]
    },
    {
      "cell_type": "markdown",
      "metadata": {
        "nteract": {
          "transient": {
            "deleting": false
          }
        }
      },
      "source": [
        "### Result Data Overview"
      ]
    },
    {
      "cell_type": "code",
      "execution_count": null,
      "metadata": {},
      "outputs": [],
      "source": [
        "import matplotlib.pyplot as plt\n",
        "import scienceplots\n",
        "import pandas as pd\n",
        "\n",
        "# Use the 'science' style for plots\n",
        "plt.style.use('science')"
      ]
    },
    {
      "cell_type": "code",
      "execution_count": null,
      "metadata": {},
      "outputs": [],
      "source": [
        "# Applying the threshold to the specified columns\n",
        "display_features = final_dataset\n",
        "\n",
        "# Create a figure with subplots in a horizontal line\n",
        "fig, axes = plt.subplots(1, 4, figsize=(16, 4))\n",
        "\n",
        "# Plotting the histograms with OEE first\n",
        "axes[0].hist(x=display_features['OEE'], bins=100)\n",
        "axes[0].set_ylabel('Amount of Orders')\n",
        "axes[0].set_title('OEE')\n",
        "\n",
        "axes[1].hist(x=display_features['QUAL'], bins=100)\n",
        "axes[1].set_ylabel('Amount of Orders')\n",
        "axes[1].set_title('Quality Rate')\n",
        "\n",
        "axes[2].hist(x=display_features['PERF'], bins=100)\n",
        "axes[2].set_ylabel('Amount of Orders')\n",
        "axes[2].set_title('Performance Effiency')\n",
        "\n",
        "axes[3].hist(x=display_features['AVAIL'], bins=100)\n",
        "axes[3].set_ylabel('Amount of Orders')\n",
        "axes[3].set_title('Availability Rate')\n",
        "\n",
        "# Adjust the layout to prevent overlap\n",
        "plt.tight_layout()\n",
        "\n",
        "# Show the plot\n",
        "plt.show()"
      ]
    },
    {
      "cell_type": "code",
      "execution_count": null,
      "metadata": {
        "gather": {
          "logged": 1724510855645
        },
        "jupyter": {
          "outputs_hidden": false,
          "source_hidden": false
        },
        "nteract": {
          "transient": {
            "deleting": false
          }
        }
      },
      "outputs": [],
      "source": [
        "# Applying the threshold to the specified columns\n",
        "display_features = filtered_final_dataset\n",
        "\n",
        "# Create a figure with subplots in a horizontal line\n",
        "fig, axes = plt.subplots(1, 4, figsize=(16, 4))\n",
        "\n",
        "# Plotting the histograms with OEE first\n",
        "axes[0].hist(x=display_features['OEE'], bins=100)\n",
        "axes[0].set_ylabel('Amount of Orders')\n",
        "axes[0].set_title('OEE')\n",
        "\n",
        "axes[1].hist(x=display_features['QUAL'], bins=100)\n",
        "#axes[1].set_ylabel('Amount of Orders')\n",
        "axes[1].set_title('Quality Rate')\n",
        "\n",
        "axes[2].hist(x=display_features['PERF'], bins=100)\n",
        "#axes[2].set_ylabel('Amount of Orders')\n",
        "axes[2].set_title('Performance Effiency')\n",
        "\n",
        "axes[3].hist(x=display_features['AVAIL'], bins=100)\n",
        "#axes[3].set_ylabel('Amount of Orders')\n",
        "axes[3].set_title('Availability Rate')\n",
        "\n",
        "# Adjust the layout to prevent overlap\n",
        "plt.tight_layout()\n",
        "\n",
        "# Show the plot\n",
        "plt.show()"
      ]
    },
    {
      "cell_type": "code",
      "execution_count": null,
      "metadata": {},
      "outputs": [],
      "source": [
        "# Calculating mean, variance, and standard deviation for the specified columns\n",
        "mean_values = filtered_final_dataset[['OEE', 'AVAIL', 'PERF', 'QUAL']].mean()\n",
        "variance_values = filtered_final_dataset[['OEE', 'AVAIL', 'PERF', 'QUAL']].var()\n",
        "std_values = filtered_final_dataset[['OEE', 'AVAIL', 'PERF', 'QUAL']].std()\n",
        "\n",
        "# Creating a DataFrame to store the results\n",
        "statistics_df = pd.DataFrame({\n",
        "    'Mean': mean_values,\n",
        "    'Variance': variance_values,\n",
        "    'Standard Deviation': std_values\n",
        "})\n",
        "\n",
        "# Display the DataFrame\n",
        "print(statistics_df)"
      ]
    },
    {
      "cell_type": "code",
      "execution_count": null,
      "metadata": {},
      "outputs": [],
      "source": [
        "# Create a figure with subplots in a horizontal line\n",
        "fig, axes = plt.subplots(1, 8, figsize=(16, 4))\n",
        "\n",
        "# Plotting the histograms with OEE first\n",
        "axes[0].hist(x=display_features['CALC_PACKGROESSE'], bins=25)\n",
        "axes[0].set_ylabel('Amount of Orders')\n",
        "axes[0].set_title('Package Size in units')\n",
        "\n",
        "axes[1].hist(x=display_features['PBL_Länge'], bins=25)\n",
        "axes[1].set_title('Package Leaflet Length')\n",
        "\n",
        "axes[2].hist(x=display_features['PBL_Breite'], bins=25)\n",
        "axes[2].set_title('Package Leaflet Width')\n",
        "\n",
        "axes[3].hist(x=display_features['FS_Länge'], bins=25)\n",
        "axes[3].set_title('Folding Box Length')\n",
        "\n",
        "axes[4].hist(x=display_features['FS_Breite'], bins=25)\n",
        "axes[4].set_title('Folding Box Width')\n",
        "\n",
        "axes[5].hist(x=display_features['FS_Tiefe'], bins=25)\n",
        "axes[5].set_title('Folding Box Depth')\n",
        "\n",
        "axes[6].hist(x=display_features['Tuben_Durchmesser'], bins=25)\n",
        "axes[6].set_title('Tube Diameter')\n",
        "\n",
        "axes[7].hist(x=display_features['Tuben_Länge'], bins=25)\n",
        "axes[7].set_title('Tube Height')\n",
        "\n",
        "# Adjust the layout to prevent overlap\n",
        "plt.tight_layout()\n",
        "\n",
        "# Show the plot\n",
        "plt.show()"
      ]
    },
    {
      "cell_type": "code",
      "execution_count": null,
      "metadata": {},
      "outputs": [],
      "source": [
        "display_features.columns"
      ]
    },
    {
      "cell_type": "code",
      "execution_count": null,
      "metadata": {},
      "outputs": [],
      "source": [
        "import matplotlib.pyplot as plt\n",
        "\n",
        "# Create a figure with subplots in a horizontal line\n",
        "fig, axes = plt.subplots(1, 3, figsize=(16, 4))\n",
        "\n",
        "# Plotting the bar chart for Production Lines\n",
        "axes[0].bar(display_features['Code'].value_counts().index, display_features['Code'].value_counts().values)\n",
        "axes[0].set_ylabel('Amount of Orders')\n",
        "axes[0].set_title('Total Orders per Production Line')\n",
        "\n",
        "# Plotting the bar chart with the top 100 products\n",
        "#top_100_products = display_features['ProductCode'].value_counts().head(100)\n",
        "#axes[1].bar(top_100_products.index, top_100_products.values)\n",
        "#axes[1].set_ylabel('Amount of Orders')\n",
        "#axes[1].set_title('Products')\n",
        "#\n",
        "## Hide the x-axis labels (product names)\n",
        "#axes[1].set_xticklabels([''] * len(top_100_products.index))\n",
        "#\n",
        "## Optionally, you can set the x-ticks to have a fixed number of ticks if desired\n",
        "#axes[1].set_xticks(range(len(top_100_products.index)))\n",
        "\n",
        "# Plotting the histogram for Order Quantity\n",
        "axes[1].hist(x=display_features['OrderQuantity'], bins=100)\n",
        "axes[1].set_ylabel('Amount of Orders')\n",
        "axes[1].set_title('Order Quantity (units)')\n",
        "\n",
        "# Calculate the average order size per production line\n",
        "avg_order_size_per_line = display_features.groupby('Code')['OrderQuantity'].mean()\n",
        "\n",
        "# Plotting the bar chart for average order size per production line\n",
        "axes[2].bar(avg_order_size_per_line.index, avg_order_size_per_line.values)\n",
        "axes[2].set_ylabel('Average Order Quantity (units)')\n",
        "axes[2].set_title('Avg Order Quantity per Production Line')\n",
        "\n",
        "# Calculate the average order size per product for the top 100 products\n",
        "#avg_order_size_per_product = display_features[display_features['ProductCode'].isin(top_100_products.index)] \\\n",
        "#                             .groupby('ProductCode')['OrderQuantity'].mean()\n",
        "\n",
        "## Plotting the bar chart for average order size per product\n",
        "#axes[4].bar(avg_order_size_per_product.index, avg_order_size_per_product.values)\n",
        "#axes[4].set_ylabel('Average Order Size (units)')\n",
        "#axes[4].set_title('Avg Order Size per Product')\n",
        "#\n",
        "## Hide the x-axis labels (product names) for chart 5\n",
        "#axes[4].set_xticklabels([''] * len(avg_order_size_per_product.index))\n",
        "#\n",
        "## Optionally, you can set the x-ticks to have a fixed number of ticks if desired\n",
        "#axes[4].set_xticks(range(len(avg_order_size_per_product.index)))\n",
        "\n",
        "# Adjust the layout to prevent overlap\n",
        "plt.tight_layout()\n",
        "\n",
        "# Show the plot\n",
        "plt.show()"
      ]
    },
    {
      "cell_type": "code",
      "execution_count": null,
      "metadata": {},
      "outputs": [],
      "source": [
        "display_features['ProductCode'].value_counts()"
      ]
    },
    {
      "cell_type": "code",
      "execution_count": null,
      "metadata": {},
      "outputs": [],
      "source": [
        "# Create a figure with subplots in a horizontal line\n",
        "fig, axes = plt.subplots(1, 2, figsize=(16, 4))\n",
        "\n",
        "# Plotting the bar chart with the top 100 products\n",
        "top_100_products = display_features['ProductCode'].value_counts().head(150)\n",
        "axes[0].bar(top_100_products.index, top_100_products.values)\n",
        "axes[0].set_ylabel('Amount of Orders')\n",
        "axes[0].set_title('Top 150 Products by Amount of Orders')\n",
        "\n",
        "# Hide the x-axis labels (product names)\n",
        "axes[0].set_xticklabels([''] * len(top_100_products.index))\n",
        "\n",
        "# Optionally, you can set the x-ticks to have a fixed number of ticks if desired\n",
        "axes[0].set_xticks(range(len(top_100_products.index)))\n",
        "\n",
        "# Calculate the average order size per product for the top 150 products\n",
        "avg_order_size_per_product = display_features[display_features['ProductCode'].isin(top_100_products.index)] \\\n",
        "                             .groupby('ProductCode')['OrderQuantity'].mean()\n",
        "\n",
        "# Ensure the products are in the same order as in the first chart\n",
        "avg_order_size_per_product = avg_order_size_per_product.reindex(top_100_products.index)\n",
        "\n",
        "# Plotting the bar chart for average order size per product, in the same order\n",
        "axes[1].bar(avg_order_size_per_product.index, avg_order_size_per_product.values)\n",
        "axes[1].set_ylabel('Average Order Size (units)')\n",
        "axes[1].set_title('Avg Order Size per Products in Top 150 by Amount of Orders')\n",
        "\n",
        "# Hide the x-axis labels (product names) for chart 2\n",
        "axes[1].set_xticklabels([''] * len(avg_order_size_per_product.index))\n",
        "\n",
        "# Optionally, you can set the x-ticks to have a fixed number of ticks if desired\n",
        "axes[1].set_xticks(range(len(avg_order_size_per_product.index)))\n",
        "\n",
        "# Adjust the layout to prevent overlap\n",
        "plt.tight_layout()\n",
        "\n",
        "# Show the plot\n",
        "plt.show()\n"
      ]
    },
    {
      "cell_type": "code",
      "execution_count": null,
      "metadata": {},
      "outputs": [],
      "source": [
        "# Calculating mean, variance, and standard deviation for the specified columns\n",
        "mean_values = filtered_final_dataset[['OEE', 'AVAIL', 'PERF', 'QUAL']].mean()\n",
        "variance_values = filtered_final_dataset[['OEE', 'AVAIL', 'PERF', 'QUAL']].var()\n",
        "std_values = filtered_final_dataset[['OEE', 'AVAIL', 'PERF', 'QUAL']].std()\n",
        "\n",
        "# Creating a DataFrame to store the results\n",
        "statistics_df = pd.DataFrame({\n",
        "    'Mean': mean_values,\n",
        "    'Variance': variance_values,\n",
        "    'Standard Deviation': std_values\n",
        "})\n",
        "\n",
        "# Display the DataFrame\n",
        "print(statistics_df)\n"
      ]
    },
    {
      "cell_type": "code",
      "execution_count": null,
      "metadata": {},
      "outputs": [],
      "source": [
        "# Create a figure with subplots in a horizontal line\n",
        "fig, axes = plt.subplots(1, 3, figsize=(16, 4))\n",
        "\n",
        "# Plotting the histograms with OEE first\n",
        "axes[0].hist(x=display_features['PBT']/3600000, bins=50)\n",
        "axes[0].set_ylabel('Amount of Orders')\n",
        "axes[0].set_title('Planned Production Time (hrs)')\n",
        "\n",
        "axes[1].hist(x=display_features['DT']/3600000, bins=50)\n",
        "axes[1].set_title('Downtime (hrs)')\n",
        "\n",
        "axes[2].hist(x=display_features['APT']/3600000, bins=50)\n",
        "axes[2].set_title('Operating Time (hrs)')\n",
        "\n"
      ]
    },
    {
      "cell_type": "markdown",
      "metadata": {},
      "source": [
        "#### Feature Creation Charts"
      ]
    },
    {
      "cell_type": "code",
      "execution_count": null,
      "metadata": {},
      "outputs": [],
      "source": [
        "import matplotlib.pyplot as plt\n",
        "import scienceplots\n",
        "import pandas as pd\n",
        "import seaborn as sns\n",
        "\n",
        "# Use the 'science' style for plots\n",
        "plt.style.use('science')"
      ]
    },
    {
      "cell_type": "code",
      "execution_count": null,
      "metadata": {},
      "outputs": [],
      "source": [
        "from modules.utils import load_latest_dataset_from_storage\n",
        "\n",
        "data_ml_integration = load_latest_dataset_from_storage('01_IntegratedData', 'Fastec_Formate_Dataset')"
      ]
    },
    {
      "cell_type": "code",
      "execution_count": null,
      "metadata": {},
      "outputs": [],
      "source": [
        "# Feature Engineering: Create a unique identifier for each product changeover\n",
        "data_ml_integration['ProductChange'] = data_ml_integration['Previous_ProductCode'] + \"-\" + data_ml_integration['ProductCode']\n",
        "data_ml_integration['Auftragswechsel'] = data_ml_integration['Auftragswechsel']/3600000\n",
        "\n",
        "print(f'Length before dropping NaNs:{len(data_ml_integration)}')\n",
        "data_ml_integration = data_ml_integration.dropna(subset=['Previous_ProductCode'])\n",
        "data_ml_integration = data_ml_integration[data_ml_integration['Previous_ProductCode'].str.strip() != '']\n",
        "data_ml_integration = data_ml_integration.dropna(subset=['ProductChange', 'Auftragswechsel'])\n",
        "print(f'Length after dropping NaNs:{len(data_ml_integration)}')\n",
        "#data_ml_integration.loc[data_ml_integration['Auftragswechsel']  > threshold, 'Auftragswechsel'] = threshold\n",
        "# Ensure 'ProductChange' is a string and 'Auftragswechsel' is numeric\n",
        "data_ml_integration['ProductChange'] = data_ml_integration['ProductChange'].astype(str)"
      ]
    },
    {
      "cell_type": "code",
      "execution_count": null,
      "metadata": {},
      "outputs": [],
      "source": [
        "# Extract Percentiles\n",
        "# Group by 'ProductChange' and calculate the percentiles for 'Auftragswechsel'\n",
        "percentiles_df = data_ml_integration.groupby(['ProductChange'])['Auftragswechsel'].quantile([0, 0.1, 0.25]).unstack()\n",
        "\n",
        "# Rename the columns to reflect the percentile values\n",
        "percentiles_df.columns = ['0%_Auftragswechsel', '10%_Auftragswechsel', '25%_Auftragswechsel']\n",
        "\n",
        "# Reset the index so 'ProductChange' becomes a column\n",
        "percentiles_df.reset_index(inplace=True)\n",
        "\n",
        "# Convert 'ProductChange' to string\n",
        "percentiles_df['ProductChange'] = percentiles_df['ProductChange'].astype(str)\n",
        "\n",
        "# Adjusted plot for the percentiles using scatter plot\n",
        "plt.figure(figsize=(10, 6))\n",
        "# Transforming the DataFrame for easier plotting\n",
        "percentile_long_df = percentiles_df.melt(id_vars='ProductChange', var_name='Percentile', value_name='Time')\n",
        "sns.scatterplot(data=percentile_long_df, x='ProductChange', y='Time', hue='Percentile', style='Percentile', s=100)\n",
        "plt.xticks([], [])  # Only remove labels, keep ticks if necessary\n",
        "plt.title('Percentile Values of Auftragswechsel by ProductChange')\n",
        "plt.tight_layout()\n",
        "plt.show()\n",
        "\n",
        "# Adjusted plot for the original distribution of Auftragswechsel using bubble chart\n",
        "plt.figure(figsize=(10, 6))\n",
        "sns.scatterplot(data=data_ml_integration, x='ProductChange', y='Auftragswechsel', legend=False, sizes=(20, 200))\n",
        "plt.title('Original Distribution of Auftragswechsel as Bubble Chart')\n",
        "plt.xticks([], [])  # Only remove labels, keep ticks if necessary\n",
        "plt.xlabel('ProductChange')\n",
        "plt.ylabel('Auftragswechsel Time')\n",
        "plt.tight_layout()\n",
        "plt.show()"
      ]
    }
  ],
  "metadata": {
    "kernel_info": {
      "name": "python38-azureml"
    },
    "kernelspec": {
      "display_name": "Python 3",
      "language": "python",
      "name": "python3"
    },
    "language_info": {
      "codemirror_mode": {
        "name": "ipython",
        "version": 3
      },
      "file_extension": ".py",
      "mimetype": "text/x-python",
      "name": "python",
      "nbconvert_exporter": "python",
      "pygments_lexer": "ipython3",
      "version": "3.11.9"
    },
    "microsoft": {
      "host": {
        "AzureML": {
          "notebookHasBeenCompleted": true
        }
      },
      "ms_spell_check": {
        "ms_spell_check_language": "en"
      }
    },
    "nteract": {
      "version": "nteract-front-end@1.0.0"
    }
  },
  "nbformat": 4,
  "nbformat_minor": 2
}
