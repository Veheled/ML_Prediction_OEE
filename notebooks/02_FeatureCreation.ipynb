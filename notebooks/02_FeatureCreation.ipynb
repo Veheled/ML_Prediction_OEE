{
  "cells": [
    {
      "cell_type": "markdown",
      "metadata": {
        "nteract": {
          "transient": {
            "deleting": false
          }
        }
      },
      "source": [
        "#### Mount the correct folder"
      ]
    },
    {
      "cell_type": "code",
      "execution_count": null,
      "metadata": {},
      "outputs": [],
      "source": [
        "%cd #INSERT FOLDER PATH"
      ]
    },
    {
      "cell_type": "markdown",
      "metadata": {
        "nteract": {
          "transient": {
            "deleting": false
          }
        }
      },
      "source": [
        "#### Import Modules"
      ]
    },
    {
      "cell_type": "code",
      "execution_count": null,
      "metadata": {
        "gather": {
          "logged": 1724065822265
        },
        "jupyter": {
          "outputs_hidden": false,
          "source_hidden": false
        },
        "nteract": {
          "transient": {
            "deleting": false
          }
        }
      },
      "outputs": [],
      "source": [
        "from modules.feature_creator import ML_Feature_Creator"
      ]
    },
    {
      "cell_type": "markdown",
      "metadata": {
        "nteract": {
          "transient": {
            "deleting": false
          }
        }
      },
      "source": [
        "#### Execute Feature Creator"
      ]
    },
    {
      "cell_type": "code",
      "execution_count": null,
      "metadata": {
        "gather": {
          "logged": 1724065823181
        },
        "jupyter": {
          "outputs_hidden": false,
          "source_hidden": false
        },
        "nteract": {
          "transient": {
            "deleting": false
          }
        }
      },
      "outputs": [],
      "source": [
        "feature_creator = ML_Feature_Creator('01_IntegratedData/', 100)\n",
        "feature_creator.run()"
      ]
    },
    {
      "cell_type": "code",
      "execution_count": null,
      "metadata": {},
      "outputs": [],
      "source": [
        "import matplotlib.pyplot as plt\n",
        "import scienceplots\n",
        "import pandas as pd\n",
        "from modules.utils import load_latest_dataset_from_storage\n",
        "\n",
        "# Use the 'science' style for plots\n",
        "plt.style.use('science')\n",
        "\n",
        "# Create a figure with subplots in a horizontal line\n",
        "fig, axes = plt.subplots(1, 3, figsize=(16, 4))\n",
        "\n",
        "display_features = load_latest_dataset_from_storage('02_FeatureData/', 'ProductChange_Category_Features')\n",
        "# Plotting the histograms with OEE first\n",
        "axes[0].hist(x=display_features['10th_Percentile_Auftragswechsel'], bins=100)\n",
        "axes[0].set_ylabel('Amount of Orders')\n",
        "axes[0].set_title('Order Change Time 10th percentile (hrs)')\n",
        "\n",
        "axes[1].hist(x=display_features['10th_Percentile_Primär'], bins=100)\n",
        "axes[1].set_title('Primary Error Time 10th percentile (hrs)')\n",
        "\n",
        "axes[2].hist(x=display_features['10th_Percentile_Sekundär'], bins=100)\n",
        "axes[2].set_title('Secondary Error Time 10th percentile (hrs)')\n",
        "\n",
        "# Adjust the layout to prevent overlap\n",
        "plt.tight_layout()\n",
        "\n",
        "# Show the plot\n",
        "plt.show()\n"
      ]
    }
  ],
  "metadata": {
    "kernel_info": {
      "name": "python38-azureml"
    },
    "kernelspec": {
      "display_name": "Python 3",
      "language": "python",
      "name": "python3"
    },
    "language_info": {
      "codemirror_mode": {
        "name": "ipython",
        "version": 3
      },
      "file_extension": ".py",
      "mimetype": "text/x-python",
      "name": "python",
      "nbconvert_exporter": "python",
      "pygments_lexer": "ipython3",
      "version": "3.11.9"
    },
    "microsoft": {
      "ms_spell_check": {
        "ms_spell_check_language": "en"
      }
    },
    "nteract": {
      "version": "nteract-front-end@1.0.0"
    }
  },
  "nbformat": 4,
  "nbformat_minor": 2
}
