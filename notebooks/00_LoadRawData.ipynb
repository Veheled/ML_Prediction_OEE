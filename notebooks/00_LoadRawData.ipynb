{
  "cells": [
    {
      "cell_type": "markdown",
      "metadata": {
        "nteract": {
          "transient": {
            "deleting": false
          }
        }
      },
      "source": [
        "### Mount compute onto proper folder"
      ]
    },
    {
      "cell_type": "code",
      "execution_count": null,
      "metadata": {},
      "outputs": [],
      "source": [
        "%cd #INSERT FOLDER PATH"
      ]
    },
    {
      "cell_type": "markdown",
      "metadata": {
        "nteract": {
          "transient": {
            "deleting": false
          }
        }
      },
      "source": [
        "### Import necessary modules / packages"
      ]
    },
    {
      "cell_type": "code",
      "execution_count": null,
      "metadata": {
        "gather": {
          "logged": 1723728997874
        }
      },
      "outputs": [],
      "source": [
        "from modules.dataloader import DataLoader"
      ]
    },
    {
      "cell_type": "markdown",
      "metadata": {
        "nteract": {
          "transient": {
            "deleting": false
          }
        }
      },
      "source": [
        "### Run Raw Data Loader"
      ]
    },
    {
      "cell_type": "code",
      "execution_count": null,
      "metadata": {
        "gather": {
          "logged": 1723729026874
        }
      },
      "outputs": [],
      "source": [
        "dataloader = DataLoader(\n",
        "    prod=True, # Use Productive Datastorage or Dev Datastorage\n",
        "    datafolder_path='ml-fastec/', # Subfolder inside datastorage to use\n",
        "    raw_data_folder_path='00_RawData/',  # raw Data Folder in which to load files\n",
        "    reload_list=[ # List of files to load\n",
        "        'FactMdaState.parquet',\n",
        "        'FactMdaCounter.parquet',\n",
        "        'FactMdaMes.parquet',\n",
        "        'DimWorkcenter.parquet',\n",
        "        'DimShiftEvent.parquet',\n",
        "        'DimMdaOperation.parquet',\n",
        "        'DimMdaCounter.parquet',\n",
        "        'DimMdaState.parquet'\n",
        "    ]\n",
        ")\n",
        "\n",
        "dataloader.run()"
      ]
    }
  ],
  "metadata": {
    "kernel_info": {
      "name": "python38-azureml"
    },
    "kernelspec": {
      "display_name": "Python 3.8 - AzureML",
      "language": "python",
      "name": "python38-azureml"
    },
    "microsoft": {
      "ms_spell_check": {
        "ms_spell_check_language": "en"
      }
    },
    "nteract": {
      "version": "nteract-front-end@1.0.0"
    }
  },
  "nbformat": 4,
  "nbformat_minor": 2
}
